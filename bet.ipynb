{
 "cells": [
  {
   "cell_type": "code",
   "execution_count": 1,
   "metadata": {},
   "outputs": [
    {
     "name": "stdout",
     "output_type": "stream",
     "text": [
      "Enter mony:1000000\n"
     ]
    }
   ],
   "source": [
    "a=int(input(\"Enter mony:\"))"
   ]
  },
  {
   "cell_type": "code",
   "execution_count": 2,
   "metadata": {},
   "outputs": [],
   "source": [
    "import random\n",
    "def number1():\n",
    "    return random.randint(0,9)"
   ]
  },
  {
   "cell_type": "code",
   "execution_count": 3,
   "metadata": {},
   "outputs": [],
   "source": [
    "def number2():\n",
    "    return random.randint(0,9)"
   ]
  },
  {
   "cell_type": "code",
   "execution_count": 4,
   "metadata": {},
   "outputs": [],
   "source": [
    "def number3():\n",
    "    return random.randint(0,9)"
   ]
  },
  {
   "cell_type": "code",
   "execution_count": 16,
   "metadata": {},
   "outputs": [
    {
     "name": "stdout",
     "output_type": "stream",
     "text": [
      "9\n",
      "0\n",
      "1\n"
     ]
    }
   ],
   "source": [
    "num1=number1()\n",
    "num2=number2()\n",
    "num3=number3()\n",
    "print(num1)\n",
    "print(num2)\n",
    "print(num3)"
   ]
  },
  {
   "cell_type": "code",
   "execution_count": 17,
   "metadata": {},
   "outputs": [
    {
     "name": "stdout",
     "output_type": "stream",
     "text": [
      "bazandeh\n",
      "pool jadid vared konid\n"
     ]
    }
   ],
   "source": [
    "if num1==num2 and num1==num3 and num2==num1 and num2==num3 and num3==num1 and num3==num2:\n",
    "    print(\"barandeh\")\n",
    "else:\n",
    "    print(\"bazandeh\")\n",
    "    print(\"pool jadid vared konid\")"
   ]
  },
  {
   "cell_type": "code",
   "execution_count": 26,
   "metadata": {
    "scrolled": true
   },
   "outputs": [
    {
     "name": "stdout",
     "output_type": "stream",
     "text": [
      "Enter mony:1\n",
      "goood barandeh\n",
      "\n",
      "Enter mony:2\n",
      "goood barandeh\n",
      "\n",
      "Enter mony:3\n",
      "goood barandeh\n",
      "\n",
      "Enter mony:1000\n",
      "bazandeh\n",
      "pool jadid vared konid\n"
     ]
    }
   ],
   "source": [
    "i=1\n",
    "while i<=3:\n",
    "    a=int(input(\"Enter mony:\"))\n",
    "    num1=3\n",
    "    num2=3\n",
    "    num3=3\n",
    "    print(\"goood barandeh\\n\")\n",
    "    i+=1\n",
    "a=int(input(\"Enter mony:\"))\n",
    "if a>0:\n",
    "    num1=number1()\n",
    "    num2=number2()\n",
    "    num3=number3()\n",
    "    if num1==num2 and num1==num3 and num2==num1 and num2==num3 and num3==num1 and num3==num2:\n",
    "        print(\"barandeh\")\n",
    "    else:\n",
    "        print(\"bazandeh\")\n",
    "        print(\"pool jadid vared konid\") "
   ]
  },
  {
   "cell_type": "code",
   "execution_count": null,
   "metadata": {},
   "outputs": [],
   "source": []
  }
 ],
 "metadata": {
  "kernelspec": {
   "display_name": "Python 3",
   "language": "python",
   "name": "python3"
  },
  "language_info": {
   "codemirror_mode": {
    "name": "ipython",
    "version": 3
   },
   "file_extension": ".py",
   "mimetype": "text/x-python",
   "name": "python",
   "nbconvert_exporter": "python",
   "pygments_lexer": "ipython3",
   "version": "3.6.13"
  }
 },
 "nbformat": 4,
 "nbformat_minor": 2
}
